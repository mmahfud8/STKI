{
 "cells": [
  {
   "cell_type": "markdown",
   "id": "5a6856c5-4cd4-4698-aa79-4278c855fd10",
   "metadata": {},
   "source": [
    "Mengenal String dalam Python\n",
    "Sebelum menggunakan library untuk text pre procesing, lebih baik jika mengenal type string dalam python."
   ]
  },
  {
   "cell_type": "code",
   "execution_count": 1,
   "id": "a5ceee8c-a45e-45de-99d7-cc414c0bb3d4",
   "metadata": {},
   "outputs": [
    {
     "name": "stdout",
     "output_type": "stream",
     "text": [
      "29\n"
     ]
    }
   ],
   "source": [
    "word = 'Sistem Temu kembali Informasi'\n",
    "print(len(word))"
   ]
  },
  {
   "cell_type": "code",
   "execution_count": 2,
   "id": "5988cee1-f5e7-4b4e-8a9c-3d161ccbc295",
   "metadata": {},
   "outputs": [
    {
     "name": "stdout",
     "output_type": "stream",
     "text": [
      "6\n"
     ]
    }
   ],
   "source": [
    "multiline = '''2\n",
    "3\n",
    "4\n",
    "'''\n",
    "print(len(multiline))"
   ]
  },
  {
   "cell_type": "code",
   "execution_count": 3,
   "id": "2a8f6cbe-e7db-46a4-82a3-fadf81458acc",
   "metadata": {},
   "outputs": [
    {
     "name": "stdout",
     "output_type": "stream",
     "text": [
      "27\n"
     ]
    }
   ],
   "source": [
    "str1 = '2'\n",
    "str2 = '7'\n",
    "\n",
    "print(str1 + str2)"
   ]
  },
  {
   "cell_type": "code",
   "execution_count": 4,
   "id": "f3760383-69a3-4ce6-babc-3fa201406006",
   "metadata": {},
   "outputs": [
    {
     "name": "stdout",
     "output_type": "stream",
     "text": [
      "112\n",
      "32\n",
      "80\n"
     ]
    }
   ],
   "source": [
    "ch1 = 'p'\n",
    "ch2 = ' ' #space\n",
    "ch3 = 'P'\n",
    "\n",
    "print(ord(ch1))\n",
    "print(ord(ch2))\n",
    "print(ord(ch3))"
   ]
  },
  {
   "cell_type": "code",
   "execution_count": 5,
   "id": "dafbac07-944f-4ba3-8390-957d4bd0c2d9",
   "metadata": {},
   "outputs": [
    {
     "name": "stdout",
     "output_type": "stream",
     "text": [
      "p\n"
     ]
    }
   ],
   "source": [
    "print(chr(112))"
   ]
  },
  {
   "cell_type": "code",
   "execution_count": 6,
   "id": "f9259323-2634-4234-99b0-dcbd60225b6e",
   "metadata": {},
   "outputs": [
    {
     "name": "stdout",
     "output_type": "stream",
     "text": [
      "Sstm Tm kmbl nfrms"
     ]
    }
   ],
   "source": [
    "cthString='Sistem Temu kembali Informasi'\n",
    "vokal = ['a','i','u','e','o']\n",
    "\n",
    "for i in range(len(cthString)):\n",
    "    if cthString[i].lower() in vokal:\n",
    "        continue\n",
    "    print(cthString[i], end=\"\")"
   ]
  },
  {
   "cell_type": "code",
   "execution_count": 7,
   "id": "37063c8a-80df-4584-b3a1-b2c5700425ec",
   "metadata": {},
   "outputs": [
    {
     "name": "stdout",
     "output_type": "stream",
     "text": [
      "immelnm\n",
      "iste\n",
      "tem Temu kembali Informasi\n",
      "Sis\n",
      "Sse eukmaiIfrai\n"
     ]
    }
   ],
   "source": [
    "cthSlice = \"Sistem Temu kembali Informasi\"\n",
    "\n",
    "print(cthSlice[1::4])\n",
    "print(cthSlice[1:5])\n",
    "print(cthSlice[3:])\n",
    "print(cthSlice[:3])\n",
    "print(cthSlice[::2])"
   ]
  },
  {
   "cell_type": "code",
   "execution_count": 8,
   "id": "aaf9eb83-943e-4f68-aad8-b9c6f35bb96a",
   "metadata": {},
   "outputs": [
    {
     "name": "stdout",
     "output_type": "stream",
     "text": [
      "b\n"
     ]
    },
    {
     "ename": "TypeError",
     "evalue": "'str' object doesn't support item deletion",
     "output_type": "error",
     "traceback": [
      "\u001b[1;31m---------------------------------------------------------------------------\u001b[0m",
      "\u001b[1;31mTypeError\u001b[0m                                 Traceback (most recent call last)",
      "Cell \u001b[1;32mIn[8], line 4\u001b[0m\n\u001b[0;32m      1\u001b[0m alphabet \u001b[38;5;241m=\u001b[39m \u001b[38;5;124m\"\u001b[39m\u001b[38;5;124mabcdefghijklmnopqrstuvwxyz\u001b[39m\u001b[38;5;124m\"\u001b[39m\n\u001b[0;32m      3\u001b[0m \u001b[38;5;28mprint\u001b[39m(alphabet[\u001b[38;5;241m1\u001b[39m])\n\u001b[1;32m----> 4\u001b[0m \u001b[38;5;28;01mdel\u001b[39;00m alphabet[\u001b[38;5;241m0\u001b[39m]\n",
      "\u001b[1;31mTypeError\u001b[0m: 'str' object doesn't support item deletion"
     ]
    }
   ],
   "source": [
    "alphabet = \"abcdefghijklmnopqrstuvwxyz\"\n",
    "\n",
    "print(alphabet[1])\n",
    "del alphabet[0]"
   ]
  },
  {
   "cell_type": "code",
   "execution_count": null,
   "id": "f4ec9ace-9175-4f7b-86fc-811e13f7f901",
   "metadata": {},
   "outputs": [],
   "source": [
    "alphabet.insert(\"A\")"
   ]
  },
  {
   "cell_type": "code",
   "execution_count": 9,
   "id": "4ef2a2a0-cc32-4b34-8cf5-6a6fa229088a",
   "metadata": {},
   "outputs": [
    {
     "name": "stdout",
     "output_type": "stream",
     "text": [
      "A\n"
     ]
    }
   ],
   "source": [
    "print(min(\"aAbByYzZ\"))"
   ]
  },
  {
   "cell_type": "code",
   "execution_count": 10,
   "id": "d862cd53-6b3d-4840-b67d-abdddb9cb604",
   "metadata": {},
   "outputs": [
    {
     "name": "stdout",
     "output_type": "stream",
     "text": [
      "3\n"
     ]
    }
   ],
   "source": [
    "t = \"theta\"\n",
    "print(t.find('ta'))"
   ]
  },
  {
   "cell_type": "code",
   "execution_count": 11,
   "id": "5b598a51-9aef-463f-951a-ae4decc23458",
   "metadata": {},
   "outputs": [
    {
     "name": "stdout",
     "output_type": "stream",
     "text": [
      "127\n",
      "235\n"
     ]
    }
   ],
   "source": [
    "txt = \"\"\"A variation of the ordinary lorem ipsum\n",
    "text has been used in typesetting since the 1960s \n",
    "or earlier, when it was popularized by advertisements \n",
    "for Letraset transfer sheets. It was introduced to \n",
    "the Information Age in the mid-1980s by the Aldus Corporation, \n",
    "which employed it in graphics and word-processing templates\n",
    "for its desktop publishing program PageMaker (from Wikipedia)\"\"\"\n",
    "\n",
    "fnd = txt.find('by')\n",
    "while fnd != -1:\n",
    "    print(fnd)\n",
    "    fnd = txt.find('by', fnd + 1)"
   ]
  },
  {
   "cell_type": "markdown",
   "id": "6838a997-c1c0-422c-b883-8a9e6b6bb170",
   "metadata": {},
   "source": [
    "1. Some of the methods offered by strings are:\n",
    "- capitalize() – changes all string letters to capitals;\n",
    "- center() – centers the string inside the field of a known length;\n",
    "- count() – counts the occurrences of a given character;\n",
    "- join() – joins all items of a tuple/list into one string;\n",
    "- lower() – converts all the string's letters into lower-case letters;\n",
    "- lstrip() – removes the white characters from the beginning of the string;\n",
    "- replace() – replaces a given substring with another;\n",
    "- rfind() – finds a substring starting from the end of the string;\n",
    "- rstrip() – removes the trailing white spaces from the end of the string;\n",
    "- plit() – splits the string into a substring using a given delimiter;\n",
    "- strip() – removes the leading and trailing white spaces;\n",
    "- swapcase() – swaps the letters' cases (lower to upper and vice versa)\n",
    "- title() – makes the first letter in each word upper-case;\n",
    "- upper() – converts all the string's letter into upper-case letters.\n",
    "2. String content can be determined using the following methods (all of them return Boolean values):\n",
    "- endswith() – does the string end with a given substring?\n",
    "- isalnum() – does the string consist only of letters and digits?\n",
    "- isalpha() – does the string consist only of letters?\n",
    "- islower() – does the string consists only of lower-case letters?\n",
    "- isspace() – does the string consists only of white spaces?\n",
    "- isupper() – does the string consists only of upper-case letters?\n",
    "- startswith() – does the string begin with a given substring?"
   ]
  },
  {
   "cell_type": "markdown",
   "id": "2b9a3c59-0e2a-4997-9eec-18e75ead3277",
   "metadata": {},
   "source": [
    "Cleaning Words \n",
    "asumsikan kita sudah mendapat data dari twitter, kemudian kita ingin membersihkan datanya. Maka, kita bisa menggunakan regular expression\n",
    "\n",
    "sebagai contoh:\n",
    "\n",
    "RT : @alzami1986 suka menonton Attack on Titans! (進撃の巨人) #aot  setiap kamis pukul 21.00 di http://netflix.com/aot . \\\\n meski tidak suka kekerasan, tapi cukup menikmati ?! #EldiaHarusMenang melawan #Marley  A ... "
   ]
  },
  {
   "cell_type": "code",
   "execution_count": 12,
   "id": "4153d336-2435-42e3-9947-154792c1123a",
   "metadata": {},
   "outputs": [],
   "source": [
    "text = 'RT : @alzami1986 suka menonton Attack on Titans! (進撃の巨人) #aot  setiap kamis pukul 21.00 di http://netflix.com/aot . \\\\n meski tidak suka kekerasan, tapi cukup menikmati ?! #EldiaHarusMenang melawan #Marley  A ...'"
   ]
  },
  {
   "cell_type": "code",
   "execution_count": 13,
   "id": "4cfc7f48-d4bc-4752-b7f1-87937d024991",
   "metadata": {},
   "outputs": [
    {
     "name": "stdout",
     "output_type": "stream",
     "text": [
      "RT : @alzami1986 suka menonton Attack on Titans! (進撃の巨人) #aot  setiap kamis pukul 21.00 di http://netflix.com/aot . \\n meski tidak suka kekerasan, tapi cukup menikmati ?! #EldiaHarusMenang melawan #Marley  A ...\n"
     ]
    }
   ],
   "source": [
    "print(text)"
   ]
  },
  {
   "cell_type": "markdown",
   "id": "e74fb24f-496b-4413-9a9d-c5a44d00326e",
   "metadata": {},
   "source": [
    "import library "
   ]
  },
  {
   "cell_type": "code",
   "execution_count": 14,
   "id": "ab599e90-f841-43fc-ba07-6ac16b529918",
   "metadata": {},
   "outputs": [],
   "source": [
    "import re\n",
    "import string\n",
    "import time\n",
    "from copy import deepcopy"
   ]
  },
  {
   "cell_type": "markdown",
   "id": "95722720-ded7-43d7-bd7a-5fbb26ce7e8e",
   "metadata": {},
   "source": [
    "remove tab new line and back slice"
   ]
  },
  {
   "cell_type": "code",
   "execution_count": 15,
   "id": "a62b8cf9-2434-4724-a9ff-8fe3f83a8819",
   "metadata": {},
   "outputs": [],
   "source": [
    "hasil = text.replace('\\\\t',\" \").replace('\\\\n',\" \").replace('\\\\u',\" \").replace('\\\\',\"\")"
   ]
  },
  {
   "cell_type": "code",
   "execution_count": 16,
   "id": "2454a2e4-e01d-49e6-bacb-b0faab6a4505",
   "metadata": {},
   "outputs": [
    {
     "data": {
      "text/plain": [
       "'RT : @alzami1986 suka menonton Attack on Titans! (進撃の巨人) #aot  setiap kamis pukul 21.00 di http://netflix.com/aot .   meski tidak suka kekerasan, tapi cukup menikmati ?! #EldiaHarusMenang melawan #Marley  A ...'"
      ]
     },
     "execution_count": 16,
     "metadata": {},
     "output_type": "execute_result"
    }
   ],
   "source": [
    "hasil"
   ]
  },
  {
   "cell_type": "markdown",
   "id": "6fbc75fd-18f0-4efd-a1fd-577297fefab3",
   "metadata": {},
   "source": [
    "remove mention, link, hashtag"
   ]
  },
  {
   "cell_type": "code",
   "execution_count": 17,
   "id": "4abef76c-9d71-4dbf-8e21-b6d3f8241d8a",
   "metadata": {},
   "outputs": [],
   "source": [
    "hasil = ' '.join(re.sub(\"([@#][A-Za-z0-9]+)|(\\w+:\\/\\/\\S+)\",\" \", hasil).split())"
   ]
  },
  {
   "cell_type": "code",
   "execution_count": 18,
   "id": "99608043-55f2-477c-a731-8f10402a711e",
   "metadata": {},
   "outputs": [
    {
     "data": {
      "text/plain": [
       "'RT : suka menonton Attack on Titans! (進撃の巨人) setiap kamis pukul 21.00 di . meski tidak suka kekerasan, tapi cukup menikmati ?! melawan A ...'"
      ]
     },
     "execution_count": 18,
     "metadata": {},
     "output_type": "execute_result"
    }
   ],
   "source": [
    "hasil"
   ]
  },
  {
   "cell_type": "markdown",
   "id": "53903433-b1c2-4ef3-bd70-efc9a6e3a10e",
   "metadata": {},
   "source": [
    "remove RT"
   ]
  },
  {
   "cell_type": "code",
   "execution_count": 19,
   "id": "6c5597bf-c4ad-4359-a66c-dc03c3eab445",
   "metadata": {},
   "outputs": [],
   "source": [
    "hasil = hasil.replace('RT : ',\"\")"
   ]
  },
  {
   "cell_type": "code",
   "execution_count": 20,
   "id": "2da44d84-4c8a-4ed1-9ccb-6bd4a2187730",
   "metadata": {},
   "outputs": [
    {
     "data": {
      "text/plain": [
       "'suka menonton Attack on Titans! (進撃の巨人) setiap kamis pukul 21.00 di . meski tidak suka kekerasan, tapi cukup menikmati ?! melawan A ...'"
      ]
     },
     "execution_count": 20,
     "metadata": {},
     "output_type": "execute_result"
    }
   ],
   "source": [
    "hasil"
   ]
  },
  {
   "cell_type": "markdown",
   "id": "039c1fc7-9735-4838-88eb-0bb6b32740c2",
   "metadata": {},
   "source": [
    "remove incomplete URL "
   ]
  },
  {
   "cell_type": "code",
   "execution_count": 21,
   "id": "5f156c33-60fa-4bfe-a745-8eb3b91d89e5",
   "metadata": {},
   "outputs": [],
   "source": [
    "hasil = hasil.replace('http://',\"\").replace('https://',\"\")"
   ]
  },
  {
   "cell_type": "code",
   "execution_count": 22,
   "id": "ba85cf9d-399a-4285-8bf6-892cca31edc3",
   "metadata": {},
   "outputs": [
    {
     "data": {
      "text/plain": [
       "'suka menonton Attack on Titans! (進撃の巨人) setiap kamis pukul 21.00 di . meski tidak suka kekerasan, tapi cukup menikmati ?! melawan A ...'"
      ]
     },
     "execution_count": 22,
     "metadata": {},
     "output_type": "execute_result"
    }
   ],
   "source": [
    "hasil"
   ]
  },
  {
   "cell_type": "markdown",
   "id": "c220e947-b668-476c-9a77-964259bbfe51",
   "metadata": {},
   "source": [
    "remove number "
   ]
  },
  {
   "cell_type": "code",
   "execution_count": 23,
   "id": "34e928ba-fc6c-4494-8746-9615dea9fea8",
   "metadata": {},
   "outputs": [],
   "source": [
    "def remove_number(hasil):\n",
    "    return re.sub(r\"\\d+\", \"\", hasil)"
   ]
  },
  {
   "cell_type": "code",
   "execution_count": 24,
   "id": "b88422c6-ad5b-4130-b5b6-bdbeca46c044",
   "metadata": {},
   "outputs": [],
   "source": [
    "hasil = remove_number(hasil)"
   ]
  },
  {
   "cell_type": "code",
   "execution_count": 25,
   "id": "d244c38a-d922-481c-a358-65de5e0ac37b",
   "metadata": {},
   "outputs": [
    {
     "data": {
      "text/plain": [
       "'suka menonton Attack on Titans! (進撃の巨人) setiap kamis pukul . di . meski tidak suka kekerasan, tapi cukup menikmati ?! melawan A ...'"
      ]
     },
     "execution_count": 25,
     "metadata": {},
     "output_type": "execute_result"
    }
   ],
   "source": [
    "hasil"
   ]
  },
  {
   "cell_type": "markdown",
   "id": "f64f677b-5a6c-437d-a089-92f06ff9cb07",
   "metadata": {},
   "source": [
    "remove whitespace leading and trailing \n",
    "digunakan untuk menghapus tanda spasi setelah titik pada akhir kalimat"
   ]
  },
  {
   "cell_type": "code",
   "execution_count": 26,
   "id": "a6bee780-59a9-488b-bd78-6c2be999c8bf",
   "metadata": {},
   "outputs": [],
   "source": [
    "def remove_whitespace(hasil):\n",
    "    return hasil.strip()"
   ]
  },
  {
   "cell_type": "code",
   "execution_count": 27,
   "id": "3631f447-ccf4-4232-8578-350236cdab9b",
   "metadata": {},
   "outputs": [],
   "source": [
    "hasil = remove_whitespace(hasil)"
   ]
  },
  {
   "cell_type": "code",
   "execution_count": 28,
   "id": "f8cc078b-eeb2-455d-a7d9-8bbb1d8ca9c4",
   "metadata": {},
   "outputs": [
    {
     "data": {
      "text/plain": [
       "'RT : @alzami1986 suka menonton Attack on Titans! (進撃の巨人) #aot  setiap kamis pukul 21.00 di http://netflix.com/aot . \\\\n meski tidak suka kekerasan, tapi cukup menikmati ?! #EldiaHarusMenang melawan #Marley  A ...'"
      ]
     },
     "execution_count": 28,
     "metadata": {},
     "output_type": "execute_result"
    }
   ],
   "source": [
    "text"
   ]
  },
  {
   "cell_type": "code",
   "execution_count": 29,
   "id": "51ae24ea-66c9-4459-a1a1-da59caaf9a6b",
   "metadata": {},
   "outputs": [
    {
     "data": {
      "text/plain": [
       "'suka menonton Attack on Titans! (進撃の巨人) setiap kamis pukul . di . meski tidak suka kekerasan, tapi cukup menikmati ?! melawan A ...'"
      ]
     },
     "execution_count": 29,
     "metadata": {},
     "output_type": "execute_result"
    }
   ],
   "source": [
    "hasil"
   ]
  },
  {
   "cell_type": "markdown",
   "id": "abc3c4e8-5fea-4c5e-a14d-60522a78af49",
   "metadata": {},
   "source": [
    "remove multiple whitespace into single whitespace"
   ]
  },
  {
   "cell_type": "code",
   "execution_count": 30,
   "id": "bdc7f307-d8a7-43cf-be6b-ca8868cd0c28",
   "metadata": {},
   "outputs": [],
   "source": [
    "def remove_whitespace_multi(hasil):\n",
    "    return re.sub('\\s+',' ',hasil)"
   ]
  },
  {
   "cell_type": "code",
   "execution_count": 31,
   "id": "4a675687-ebc1-43bb-8657-c558fb3047b3",
   "metadata": {},
   "outputs": [],
   "source": [
    "hasil = remove_whitespace_multi(hasil)"
   ]
  },
  {
   "cell_type": "code",
   "execution_count": 32,
   "id": "936d1c96-4368-4420-95b1-f509a5d27664",
   "metadata": {},
   "outputs": [
    {
     "data": {
      "text/plain": [
       "'suka menonton Attack on Titans! (進撃の巨人) setiap kamis pukul . di . meski tidak suka kekerasan, tapi cukup menikmati ?! melawan A ...'"
      ]
     },
     "execution_count": 32,
     "metadata": {},
     "output_type": "execute_result"
    }
   ],
   "source": [
    "hasil"
   ]
  },
  {
   "cell_type": "markdown",
   "id": "954a513e-cf91-4d95-944d-1e01ac2b1e1d",
   "metadata": {},
   "source": [
    "remove single char "
   ]
  },
  {
   "cell_type": "code",
   "execution_count": 33,
   "id": "5556f1c6-8d65-46fc-819f-bb36237e12f0",
   "metadata": {},
   "outputs": [],
   "source": [
    "def remove_single_char(hasil):\n",
    "    return re.sub(r\"\\b[a-zA-Z]\\b\", \"\", hasil)"
   ]
  },
  {
   "cell_type": "code",
   "execution_count": 34,
   "id": "9334c15f-6f5d-4493-893b-dc95ea2d0198",
   "metadata": {},
   "outputs": [],
   "source": [
    "hasil = remove_single_char(hasil)"
   ]
  },
  {
   "cell_type": "code",
   "execution_count": 35,
   "id": "a668f040-6207-4e50-819b-a53b21655392",
   "metadata": {},
   "outputs": [
    {
     "data": {
      "text/plain": [
       "'suka menonton Attack on Titans! (進撃の巨人) setiap kamis pukul . di . meski tidak suka kekerasan, tapi cukup menikmati ?! melawan  ...'"
      ]
     },
     "execution_count": 35,
     "metadata": {},
     "output_type": "execute_result"
    }
   ],
   "source": [
    "hasil"
   ]
  },
  {
   "cell_type": "markdown",
   "id": "62af9437-0077-4a40-81fd-c5e9e24b0bea",
   "metadata": {},
   "source": [
    "remove excessive dot "
   ]
  },
  {
   "cell_type": "code",
   "execution_count": 36,
   "id": "c4b474b6-6f4f-4456-9f18-33ca929bbe9a",
   "metadata": {},
   "outputs": [],
   "source": [
    "def remove_excessive_dot(hasil):\n",
    "    return hasil.replace('...',\" \")"
   ]
  },
  {
   "cell_type": "code",
   "execution_count": 37,
   "id": "894380fd-0a69-4395-9a10-68a147e5382f",
   "metadata": {},
   "outputs": [],
   "source": [
    "hasil = remove_excessive_dot(hasil)"
   ]
  },
  {
   "cell_type": "code",
   "execution_count": 38,
   "id": "18a61b3e-96b1-409e-8f9c-49999c9c1e40",
   "metadata": {},
   "outputs": [
    {
     "data": {
      "text/plain": [
       "'suka menonton Attack on Titans! (進撃の巨人) setiap kamis pukul . di . meski tidak suka kekerasan, tapi cukup menikmati ?! melawan   '"
      ]
     },
     "execution_count": 38,
     "metadata": {},
     "output_type": "execute_result"
    }
   ],
   "source": [
    "hasil"
   ]
  },
  {
   "cell_type": "markdown",
   "id": "ea1b8ba2-e609-406d-bcef-7375cce8b8c7",
   "metadata": {},
   "source": [
    "remove punctuation"
   ]
  },
  {
   "cell_type": "code",
   "execution_count": 39,
   "id": "e45a4160-ab01-4599-ae8e-3f141d17fff4",
   "metadata": {},
   "outputs": [],
   "source": [
    "def remove_punctuation(hasil):\n",
    "    return hasil.translate(str.maketrans(\"\",\"\",string.punctuation))"
   ]
  },
  {
   "cell_type": "code",
   "execution_count": 40,
   "id": "03a11915-10fa-49b4-beec-e73fc508e05a",
   "metadata": {},
   "outputs": [],
   "source": [
    "hasil = remove_punctuation(hasil)"
   ]
  },
  {
   "cell_type": "code",
   "execution_count": 41,
   "id": "dfc5a153-9488-43ec-b58e-c8535055f712",
   "metadata": {},
   "outputs": [
    {
     "data": {
      "text/plain": [
       "'RT : @alzami1986 suka menonton Attack on Titans! (進撃の巨人) #aot  setiap kamis pukul 21.00 di http://netflix.com/aot . \\\\n meski tidak suka kekerasan, tapi cukup menikmati ?! #EldiaHarusMenang melawan #Marley  A ...'"
      ]
     },
     "execution_count": 41,
     "metadata": {},
     "output_type": "execute_result"
    }
   ],
   "source": [
    "text"
   ]
  },
  {
   "cell_type": "code",
   "execution_count": 42,
   "id": "c074b6cf-99ef-4a01-8522-2d570b8fcba3",
   "metadata": {},
   "outputs": [
    {
     "data": {
      "text/plain": [
       "'suka menonton Attack on Titans 進撃の巨人 setiap kamis pukul  di  meski tidak suka kekerasan tapi cukup menikmati  melawan   '"
      ]
     },
     "execution_count": 42,
     "metadata": {},
     "output_type": "execute_result"
    }
   ],
   "source": [
    "hasil"
   ]
  },
  {
   "cell_type": "markdown",
   "id": "0f40af63-ab8b-4159-b74c-2b08fe10d46a",
   "metadata": {},
   "source": [
    "remove excessive whitespace"
   ]
  },
  {
   "cell_type": "code",
   "execution_count": 43,
   "id": "749936e2-8226-4337-b281-cc16ed3f37d3",
   "metadata": {},
   "outputs": [],
   "source": [
    "document = \" saya                    tidak suka sambal     bikin sakit    \""
   ]
  },
  {
   "cell_type": "code",
   "execution_count": 44,
   "id": "066aa077-84d1-4610-b217-f84845722f1c",
   "metadata": {},
   "outputs": [],
   "source": [
    "nowhite = ' '.join(document.split())"
   ]
  },
  {
   "cell_type": "code",
   "execution_count": 45,
   "id": "f7fb2d27-0936-4922-a8d9-2b7bd6fac147",
   "metadata": {},
   "outputs": [
    {
     "data": {
      "text/plain": [
       "'saya tidak suka sambal bikin sakit'"
      ]
     },
     "execution_count": 45,
     "metadata": {},
     "output_type": "execute_result"
    }
   ],
   "source": [
    "nowhite"
   ]
  },
  {
   "cell_type": "code",
   "execution_count": null,
   "id": "4c756ac4",
   "metadata": {},
   "outputs": [],
   "source": []
  }
 ],
 "metadata": {
  "kernelspec": {
   "display_name": "Python 3.9.1 (ipykernelstki)",
   "language": "python",
   "name": "latihanstki"
  },
  "language_info": {
   "codemirror_mode": {
    "name": "ipython",
    "version": 3
   },
   "file_extension": ".py",
   "mimetype": "text/x-python",
   "name": "python",
   "nbconvert_exporter": "python",
   "pygments_lexer": "ipython3",
   "version": "3.9.1"
  }
 },
 "nbformat": 4,
 "nbformat_minor": 5
}
