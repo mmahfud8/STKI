{
 "cells": [
  {
   "cell_type": "markdown",
   "id": "bee7e051-b236-4e4d-a9ef-40a073b9a5b9",
   "metadata": {},
   "source": [
    "install library ekphrasis\n",
    "\n",
    "# !pip install ekphrasis"
   ]
  },
  {
   "cell_type": "code",
   "execution_count": 1,
   "id": "0b7ad0b3-0b27-4b6d-9b66-6bfa2cfc3907",
   "metadata": {},
   "outputs": [
    {
     "name": "stderr",
     "output_type": "stream",
     "text": [
      "C:\\Users\\mmahf\\miniconda3\\envs\\latihanstki\\lib\\site-packages\\ekphrasis\\classes\\tokenizer.py:225: FutureWarning: Possible nested set at position 2190\n",
      "  self.tok = re.compile(r\"({})\".format(\"|\".join(pipeline)))\n"
     ]
    },
    {
     "name": "stdout",
     "output_type": "stream",
     "text": [
      "Reading twitter - 1grams ...\n",
      "Reading twitter - 2grams ...\n",
      "Reading twitter - 1grams ...\n"
     ]
    },
    {
     "name": "stderr",
     "output_type": "stream",
     "text": [
      "C:\\Users\\mmahf\\miniconda3\\envs\\latihanstki\\lib\\site-packages\\ekphrasis\\classes\\exmanager.py:14: FutureWarning: Possible nested set at position 42\n",
      "  regexes = {k.lower(): re.compile(self.expressions[k]) for k, v in\n"
     ]
    }
   ],
   "source": [
    "from ekphrasis.classes.preprocessor import TextPreProcessor\n",
    "from ekphrasis.classes.tokenizer import SocialTokenizer\n",
    "from ekphrasis.dicts.emoticons import emoticons\n",
    "\n",
    "text_processor = TextPreProcessor(\n",
    "    # terms that will be normalized\n",
    "    normalize=['email', 'percent', 'money', 'phone', 'user',\n",
    "        'time', 'date', 'number'],\n",
    "    # terms that will be annotated\n",
    "    #annotate={\"hashtag\", \"allcaps\", \"elongated\", \"repeated\",'emphasis', 'censored'},\n",
    "    annotate={\"hashtag\",\"allcaps\",\"elongated\",\"repeated\",'emphasis','censored'},\n",
    "    fix_html=True,  # fix HTML tokens\n",
    "    \n",
    "    # corpus from which the word statistics are going to be used \n",
    "    # for word segmentation \n",
    "    segmenter=\"twitter\", \n",
    "    \n",
    "    # corpus from which the word statistics are going to be used \n",
    "    # for spell correction\n",
    "    corrector=\"twitter\", \n",
    "    \n",
    "    unpack_hashtags=True,  # perform word segmentation on hashtags\n",
    "    unpack_contractions=True,  # Unpack contractions (can't -> can not)\n",
    "    spell_correct_elong=False,  # spell correction for elongated words\n",
    "    \n",
    "    # select a tokenizer. You can use SocialTokenizer, or pass your own\n",
    "    # the tokenizer, should take as input a string and return a list of tokens\n",
    "    tokenizer=SocialTokenizer(lowercase=True).tokenize,\n",
    "    \n",
    "    # list of dictionaries, for replacing tokens extracted from the text,\n",
    "    # with other expressions. You can pass more than one dictionaries.\n",
    "    dicts=[emoticons]\n",
    ")"
   ]
  },
  {
   "cell_type": "code",
   "execution_count": 2,
   "id": "d15b2bed-7817-4488-acdd-fb04a0b2d7f4",
   "metadata": {},
   "outputs": [],
   "source": [
    "def bersih_eks(kata):\n",
    "  return \" \".join(text_processor.pre_process_doc(kata))"
   ]
  },
  {
   "cell_type": "code",
   "execution_count": 3,
   "id": "9f81726c-60a1-408f-8ca5-2e86012f55fc",
   "metadata": {},
   "outputs": [],
   "source": [
    "kalimat = \"https://www.cnnindonesia.com/ekonomi/20171230142047-92-265681/geliat-bisnis-sektor-wisata-jelang-pergantian-tahun\""
   ]
  },
  {
   "cell_type": "code",
   "execution_count": 4,
   "id": "b87e7208-e3cb-4eaf-8ff3-33fca574d828",
   "metadata": {},
   "outputs": [],
   "source": [
    "hasil01 = bersih_eks(kalimat)"
   ]
  },
  {
   "cell_type": "code",
   "execution_count": 5,
   "id": "b38a22c9-818d-40c1-8389-13569267dbd5",
   "metadata": {},
   "outputs": [
    {
     "data": {
      "text/plain": [
       "'https :// w <elongated> . cnnindonesia . com / ekonomi / <number> - <number> - <number> / geliat - bisnis - sektor - wisata - jelang - pergantian - tahun'"
      ]
     },
     "execution_count": 5,
     "metadata": {},
     "output_type": "execute_result"
    }
   ],
   "source": [
    "hasil01 "
   ]
  },
  {
   "cell_type": "code",
   "execution_count": 6,
   "id": "b4e2d3cc-97a1-4e8b-897f-86dd8ceba3d7",
   "metadata": {},
   "outputs": [],
   "source": [
    "kalimat2 = \"Jakarta, CNN Indonesia -- Asosiasi Perusahaan Perjalanan Wisata (Asita) optimis bisnis sektor wisata unjuk gigi jelang pergantian tahun. Ini berarti, sektor penerbangan, perhotelan, hingga atraksi wisata akan terdongkrak pada puncak berlibur.\""
   ]
  },
  {
   "cell_type": "code",
   "execution_count": 7,
   "id": "10e40d8d-36f6-4fa4-a56a-8892ac163f4f",
   "metadata": {},
   "outputs": [
    {
     "data": {
      "text/plain": [
       "'jakarta , <allcaps> cnn </allcaps> indonesia - - asosiasi perusahaan perjalanan wisata ( asita ) optimis bisnis sektor wisata unjuk gigi jelang pergantian tahun . ini berarti , sektor penerbangan , perhotelan , hingga atraksi wisata akan terdongkrak pada puncak berlibur .'"
      ]
     },
     "execution_count": 7,
     "metadata": {},
     "output_type": "execute_result"
    }
   ],
   "source": [
    "hasil02 = bersih_eks(kalimat2)\n",
    "hasil02"
   ]
  },
  {
   "cell_type": "code",
   "execution_count": null,
   "id": "d74d924e-e276-47b7-baa6-47bc12b92f37",
   "metadata": {},
   "outputs": [],
   "source": []
  }
 ],
 "metadata": {
  "kernelspec": {
   "display_name": "Python 3.9.1 (ipykernelstki)",
   "language": "python",
   "name": "latihanstki"
  },
  "language_info": {
   "codemirror_mode": {
    "name": "ipython",
    "version": 3
   },
   "file_extension": ".py",
   "mimetype": "text/x-python",
   "name": "python",
   "nbconvert_exporter": "python",
   "pygments_lexer": "ipython3",
   "version": "3.9.1"
  }
 },
 "nbformat": 4,
 "nbformat_minor": 5
}
