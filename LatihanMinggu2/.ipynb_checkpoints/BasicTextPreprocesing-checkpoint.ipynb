{
 "cells": [
  {
   "cell_type": "markdown",
   "id": "d9632b7c-00cc-4aef-8d28-4173fbc17279",
   "metadata": {},
   "source": [
    "Dasar Text-Preprocessing dengan Python#\n",
    "___________________________________________\n",
    "\n",
    "Case Folding: Lowercase\n",
    "Merubah format teks menjadi format huruf kecil semua (lowercase)."
   ]
  },
  {
   "cell_type": "code",
   "execution_count": 1,
   "id": "8d45b6b1-418e-4126-8786-2acea06cfeba",
   "metadata": {},
   "outputs": [
    {
     "data": {
      "text/plain": [
       "'ya, dua pemain manchester city mengalami cedera saat ditahan imbang tanpa gol tim tuan rumah crystal palace di stadion selhurst park, minggu (31/12). mereka adalah gabriel jesus dan kevin de bruyne.'"
      ]
     },
     "execution_count": 1,
     "metadata": {},
     "output_type": "execute_result"
    }
   ],
   "source": [
    "kalimat = \"Ya, dua pemain Manchester City mengalami cedera saat ditahan imbang tanpa gol tim tuan rumah Crystal Palace di Stadion Selhurst Park, Minggu (31/12). Mereka adalah Gabriel Jesus dan Kevin De Bruyne.\"\n",
    "\n",
    "hasil = kalimat.lower()\n",
    "hasil"
   ]
  },
  {
   "cell_type": "markdown",
   "id": "ad8de7f0-81b7-4d7c-9c4b-44ebca32eaf8",
   "metadata": {},
   "source": [
    "Case Folding: Removing Number\n",
    "Menghapus karakter angka."
   ]
  },
  {
   "cell_type": "code",
   "execution_count": 2,
   "id": "6feb4ec3-4ecc-4853-aebe-98aa32bdf8a5",
   "metadata": {},
   "outputs": [
    {
     "data": {
      "text/plain": [
       "'Ya, dua pemain Manchester City mengalami cedera saat ditahan imbang tanpa gol tim tuan rumah Crystal Palace di Stadion Selhurst Park, Minggu (/). Mereka adalah Gabriel Jesus dan Kevin De Bruyne.'"
      ]
     },
     "execution_count": 2,
     "metadata": {},
     "output_type": "execute_result"
    }
   ],
   "source": [
    "import re\n",
    "\n",
    "kalimat = \"Ya, dua pemain Manchester City mengalami cedera saat ditahan imbang tanpa gol tim tuan rumah Crystal Palace di Stadion Selhurst Park, Minggu (31/12). Mereka adalah Gabriel Jesus dan Kevin De Bruyne.\"\n",
    "\n",
    "hasil = re.sub(r\"\\d+\",\"\",kalimat)\n",
    "hasil\n"
   ]
  },
  {
   "cell_type": "markdown",
   "id": "2da7ee25-d3c1-4dcd-9894-9d575e654cdc",
   "metadata": {},
   "source": [
    "Case Folding: Removing Punctuation\r\n",
    "Menghapus karakter tanda baca."
   ]
  },
  {
   "cell_type": "code",
   "execution_count": 3,
   "id": "38445c21-9ba8-4e35-a285-373a3471041b",
   "metadata": {},
   "outputs": [
    {
     "data": {
      "text/plain": [
       "'Ya dua pemain Manchester City mengalami cedera saat ditahan imbang tanpa gol tim tuan rumah Crystal Palace di Stadion Selhurst Park Minggu  Mereka adalah Gabriel Jesus dan Kevin De Bruyne'"
      ]
     },
     "execution_count": 3,
     "metadata": {},
     "output_type": "execute_result"
    }
   ],
   "source": [
    "import string\n",
    "\n",
    "kalimat = \"Ya, dua pemain Manchester City mengalami cedera saat ditahan imbang tanpa gol tim tuan rumah Crystal Palace di Stadion Selhurst Park, Minggu (31/12). Mereka adalah Gabriel Jesus dan Kevin De Bruyne.\"\n",
    "\n",
    "hasil = kalimat.translate(str.maketrans(\"\",\"\",string.punctuation))\n",
    "hasil = re.sub(r\"\\d+\",\"\",hasil)\n",
    "hasil"
   ]
  },
  {
   "cell_type": "markdown",
   "id": "fb5c4f0d-0cdd-4e00-a474-b5728518f36c",
   "metadata": {},
   "source": [
    "Case Folding: Removing Whitespace\n",
    "Menghapus karakter kosong."
   ]
  },
  {
   "cell_type": "code",
   "execution_count": 4,
   "id": "06ae54b9-43bc-4888-8a86-d36c5de8044b",
   "metadata": {},
   "outputs": [
    {
     "data": {
      "text/plain": [
       "'ini kalimat contoh'"
      ]
     },
     "execution_count": 4,
     "metadata": {},
     "output_type": "execute_result"
    }
   ],
   "source": [
    "kalimat = \" \\t    ini kalimat contoh \\t   \\n\"\n",
    "hasil = kalimat.strip()\n",
    "\n",
    "hasil"
   ]
  },
  {
   "cell_type": "raw",
   "id": "53b58193-cde9-4311-8c41-5cebed82daf7",
   "metadata": {},
   "source": [
    "Separating Sentences with Split () Method\r\n",
    "Fungsi split() memisahkan string ke dalam list dengan spasi sebagai pemisah jika tidak ditentukan pemisahnyaasp"
   ]
  },
  {
   "cell_type": "code",
   "execution_count": 5,
   "id": "f7b9acff-202c-4dc5-bd27-a143f4a8150d",
   "metadata": {},
   "outputs": [
    {
     "data": {
      "text/plain": [
       "['Dua',\n",
       " 'pemain',\n",
       " 'Manchester',\n",
       " 'City',\n",
       " 'mengalami',\n",
       " 'cedera',\n",
       " 'saat',\n",
       " 'ditahan',\n",
       " 'imbang',\n",
       " 'tanpa',\n",
       " 'gol',\n",
       " 'tim',\n",
       " 'tuan',\n",
       " 'rumah',\n",
       " 'Crystal',\n",
       " 'Palace',\n",
       " 'di',\n",
       " 'Stadion',\n",
       " 'Selhurst',\n",
       " 'Park,',\n",
       " 'Minggu',\n",
       " '(31/12).']"
      ]
     },
     "execution_count": 5,
     "metadata": {},
     "output_type": "execute_result"
    }
   ],
   "source": [
    "kalimat = \"Dua pemain Manchester City mengalami cedera saat ditahan imbang tanpa gol tim tuan rumah Crystal Palace di Stadion Selhurst Park, Minggu (31/12).\"\n",
    "\n",
    "pisah = kalimat.split()\n",
    "pisah"
   ]
  },
  {
   "cell_type": "markdown",
   "id": "d067e642-dfea-4ce2-a5fc-b7f727f9d59a",
   "metadata": {},
   "source": [
    "Tokenizing: Word Tokenizing Using NLTK Module\r\n",
    "Menggunakan library NLTK untuk memisahkan kata dalam sebuah kalimat."
   ]
  },
  {
   "cell_type": "code",
   "execution_count": 6,
   "id": "d24fba9c-0432-4ce2-8973-078b128fa799",
   "metadata": {},
   "outputs": [],
   "source": [
    "import nltk \n",
    "from nltk.tokenize import word_tokenize\n",
    "\n",
    "kalimat = \"Dua pemain Manchester City mengalami cedera saat ditahan imbang tanpa gol tim tuan rumah Crystal Palace di Stadion Selhurst Park, Minggu (31/12).\"\n",
    "\n",
    "tokens = nltk.tokenize.word_tokenize(kalimat)"
   ]
  },
  {
   "cell_type": "code",
   "execution_count": 7,
   "id": "9be9539d-42f4-4cad-9ff2-fdce3aa6a76d",
   "metadata": {},
   "outputs": [
    {
     "data": {
      "text/plain": [
       "['Dua',\n",
       " 'pemain',\n",
       " 'Manchester',\n",
       " 'City',\n",
       " 'mengalami',\n",
       " 'cedera',\n",
       " 'saat',\n",
       " 'ditahan',\n",
       " 'imbang',\n",
       " 'tanpa',\n",
       " 'gol',\n",
       " 'tim',\n",
       " 'tuan',\n",
       " 'rumah',\n",
       " 'Crystal',\n",
       " 'Palace',\n",
       " 'di',\n",
       " 'Stadion',\n",
       " 'Selhurst',\n",
       " 'Park',\n",
       " ',',\n",
       " 'Minggu',\n",
       " '(',\n",
       " '31/12',\n",
       " ')',\n",
       " '.']"
      ]
     },
     "execution_count": 7,
     "metadata": {},
     "output_type": "execute_result"
    }
   ],
   "source": [
    "tokens"
   ]
  },
  {
   "cell_type": "markdown",
   "id": "9e4602ab-787b-4057-9a32-81368d8d6595",
   "metadata": {},
   "source": [
    "Tokenizing with Case Folding\r\n",
    "Menggabungkan teknik Case Foling dengan Tokenizing."
   ]
  },
  {
   "cell_type": "code",
   "execution_count": 8,
   "id": "b23bc87e-2018-4953-8461-1da2356838c4",
   "metadata": {},
   "outputs": [
    {
     "data": {
      "text/plain": [
       "['dua',\n",
       " 'pemain',\n",
       " 'manchester',\n",
       " 'city',\n",
       " 'mengalami',\n",
       " 'cedera',\n",
       " 'saat',\n",
       " 'ditahan',\n",
       " 'imbang',\n",
       " 'tanpa',\n",
       " 'gol',\n",
       " 'tim',\n",
       " 'tuan',\n",
       " 'rumah',\n",
       " 'crystal',\n",
       " 'palace',\n",
       " 'di',\n",
       " 'stadion',\n",
       " 'selhurst',\n",
       " 'park',\n",
       " 'minggu']"
      ]
     },
     "execution_count": 8,
     "metadata": {},
     "output_type": "execute_result"
    }
   ],
   "source": [
    "from nltk.tokenize import word_tokenize \n",
    "\n",
    "kalimat = \"Dua pemain Manchester City mengalami cedera saat ditahan imbang tanpa gol tim tuan rumah Crystal Palace di Stadion Selhurst Park, Minggu (31/12).\"\n",
    "kalimat = kalimat.translate(str.maketrans('','',string.punctuation)).lower()\n",
    "kalimat = re.sub(r\"\\d+\", \"\", kalimat)\n",
    "\n",
    "tokens = nltk.tokenize.word_tokenize(kalimat)\n",
    "\n",
    "tokens"
   ]
  },
  {
   "cell_type": "markdown",
   "id": "e6bac81e-47e8-46d1-a97a-5ecd6d2e4757",
   "metadata": {},
   "source": [
    "Frequency Distribution\r\n",
    "Menghitung frekuensi kemunculan setiap tokens(kata) dalam teks."
   ]
  },
  {
   "cell_type": "code",
   "execution_count": 9,
   "id": "513f9d0a-b8e1-4ca4-948c-67b3dc1f4c35",
   "metadata": {},
   "outputs": [
    {
     "name": "stdout",
     "output_type": "stream",
     "text": [
      "[('jesus', 2), ('de', 2), ('bruyne', 2), ('absen', 2), ('cedera', 2), ('dua', 2), ('ke', 2), ('mereka', 1), ('adalah', 1), ('gabriel', 1), ('dan', 1), ('kevin', 1), ('dipastikan', 1), ('bakal', 1), ('sekitar', 1), ('sebulan', 1), ('akibat', 1), ('parah', 1), ('sedangkan', 1), ('diperkirakan', 1), ('hanya', 1), ('dalam', 1), ('laga', 1), ('depan', 1), ('guardiola', 1), ('mengaku', 1), ('cukup', 1), ('pusing', 1), ('dengan', 1), ('yang', 1), ('dialami', 1), ('pemainnya', 1), ('di', 1), ('mancity', 1)]\n"
     ]
    }
   ],
   "source": [
    "from nltk.tokenize import word_tokenize\n",
    "from nltk.probability import FreqDist\n",
    "\n",
    "kalimat = \"Mereka adalah Gabriel Jesus dan Kevin De Bruyne. Jesus dipastikan bakal absen sekitar sebulan akibat cedera parah. Sedangkan De Bruyne diperkirakan absen hanya dalam dua laga ke ke depan. Guardiola mengaku cukup pusing dengan cedera yang dialami dua pemainnya di ManCity.\"\n",
    "kalimat = kalimat.translate(str.maketrans('','',string.punctuation)).lower()\n",
    "kalimat = re.sub(r\"\\d+\", \"\", kalimat)\n",
    "\n",
    "tokens = nltk.tokenize.word_tokenize(kalimat)\n",
    "kemunculan = nltk.FreqDist(tokens)\n",
    "\n",
    "print(kemunculan.most_common())"
   ]
  },
  {
   "cell_type": "markdown",
   "id": "2c6fc1c3-1614-4bd0-b97e-c6be1d817f48",
   "metadata": {},
   "source": [
    "Frequency Distribution Visualization with Matplotlib\r\n",
    "Untuk menggambarkan frekuensi kemunculan setiap tokens dapat menggunakan library matplotlib pada Python.\r\n",
    "\r\n",
    "https://matplotlib.org"
   ]
  },
  {
   "cell_type": "code",
   "execution_count": 10,
   "id": "19e2c126-50b6-4c39-9866-9d1acb26182a",
   "metadata": {},
   "outputs": [
    {
     "data": {
      "image/png": "[encoded data removed]",
      "text/plain": [
       "<Figure size 640x480 with 1 Axes>"
      ]
     },
     "metadata": {},
     "output_type": "display_data"
    }
   ],
   "source": [
    "import matplotlib.pyplot as plt\n",
    "\n",
    "kemunculan.plot(30, cumulative=False)\n",
    "\n",
    "plt.show()"
   ]
  },
  {
   "cell_type": "markdown",
   "id": "f2a5296a-244c-4861-8492-a8575f1abeea",
   "metadata": {},
   "source": [
    "Tokenizing: Sentences Tokenizing Using NLTK Module\r\n",
    "Memisahkan kalimat dalam sebuah paragraf."
   ]
  },
  {
   "cell_type": "code",
   "execution_count": 11,
   "id": "7eb7a10f-58dc-4ee2-a51b-d1fa83996cbe",
   "metadata": {},
   "outputs": [
    {
     "name": "stdout",
     "output_type": "stream",
     "text": [
      "['Mereka adalah Gabriel Jesus dan Kevin De Bruyne.', 'Jesus dipastikan bakal absen sekitar sebulan akibat cedera parah.', 'Sedangkan De Bruyne diperkirakan absen hanya dalam dua laga ke ke depan.', 'Guardiola mengaku cukup pusing dengan cedera yang dialami dua pemainnya di ManCity.']\n"
     ]
    }
   ],
   "source": [
    "from nltk.tokenize import sent_tokenize\n",
    "\n",
    "kalimat = \"Mereka adalah Gabriel Jesus dan Kevin De Bruyne. Jesus dipastikan bakal absen sekitar sebulan akibat cedera parah. Sedangkan De Bruyne diperkirakan absen hanya dalam dua laga ke ke depan. Guardiola mengaku cukup pusing dengan cedera yang dialami dua pemainnya di ManCity.\"\n",
    "\n",
    "tokens = nltk.tokenize.sent_tokenize(kalimat)\n",
    "\n",
    "print(tokens)"
   ]
  },
  {
   "cell_type": "markdown",
   "id": "20ce16e8-3799-46d2-a8ab-01af0e9562a6",
   "metadata": {},
   "source": [
    "Filtering using NLTK"
   ]
  },
  {
   "cell_type": "code",
   "execution_count": 12,
   "id": "688ea4f5-ce1e-4f4c-aeea-0de170bbef1d",
   "metadata": {},
   "outputs": [
    {
     "name": "stdout",
     "output_type": "stream",
     "text": [
      "['gabriel', 'jesus', 'kevin', 'de', 'bruyne', 'jesus', 'absen', 'sebulan', 'akibat', 'cedera', 'parah', 'de', 'bruyne', 'absen', 'laga', 'guardiola', 'mengaku', 'pusing', 'cedera', 'dialami', 'pemainnya', 'mancity']\n"
     ]
    }
   ],
   "source": [
    "from nltk.tokenize import sent_tokenize, word_tokenize\n",
    "from nltk.corpus import stopwords\n",
    " \n",
    "kalimat = \"Mereka adalah Gabriel Jesus dan Kevin De Bruyne. Jesus dipastikan bakal absen sekitar sebulan akibat cedera parah. Sedangkan De Bruyne diperkirakan absen hanya dalam dua laga ke ke depan. Guardiola mengaku cukup pusing dengan cedera yang dialami dua pemainnya di ManCity.\"\n",
    "kalimat = kalimat.translate(str.maketrans('','',string.punctuation)).lower()\n",
    "\n",
    "tokens = word_tokenize(kalimat)\n",
    "listStopword = set(stopwords.words('Indonesian'))\n",
    "\n",
    "removed = []\n",
    "for t in tokens:\n",
    "    if t not in listStopword:\n",
    "        removed.append(t)\n",
    " \n",
    "print(removed)"
   ]
  },
  {
   "cell_type": "markdown",
   "id": "a2bdcc63-14aa-4b8b-a16c-81f488cee9a1",
   "metadata": {},
   "source": [
    "Filtering using Sastrawi: Stopword List\n",
    "Melihat daftar stopword pada Sastrawi."
   ]
  },
  {
   "cell_type": "code",
   "execution_count": 13,
   "id": "ff430fa4-2627-410d-a7b1-14cabbd23894",
   "metadata": {},
   "outputs": [
    {
     "name": "stdout",
     "output_type": "stream",
     "text": [
      "['yang', 'untuk', 'pada', 'ke', 'para', 'namun', 'menurut', 'antara', 'dia', 'dua', 'ia', 'seperti', 'jika', 'jika', 'sehingga', 'kembali', 'dan', 'tidak', 'ini', 'karena', 'kepada', 'oleh', 'saat', 'harus', 'sementara', 'setelah', 'belum', 'kami', 'sekitar', 'bagi', 'serta', 'di', 'dari', 'telah', 'sebagai', 'masih', 'hal', 'ketika', 'adalah', 'itu', 'dalam', 'bisa', 'bahwa', 'atau', 'hanya', 'kita', 'dengan', 'akan', 'juga', 'ada', 'mereka', 'sudah', 'saya', 'terhadap', 'secara', 'agar', 'lain', 'anda', 'begitu', 'mengapa', 'kenapa', 'yaitu', 'yakni', 'daripada', 'itulah', 'lagi', 'maka', 'tentang', 'demi', 'dimana', 'kemana', 'pula', 'sambil', 'sebelum', 'sesudah', 'supaya', 'guna', 'kah', 'pun', 'sampai', 'sedangkan', 'selagi', 'sementara', 'tetapi', 'apakah', 'kecuali', 'sebab', 'selain', 'seolah', 'seraya', 'seterusnya', 'tanpa', 'agak', 'boleh', 'dapat', 'dsb', 'dst', 'dll', 'dahulu', 'dulunya', 'anu', 'demikian', 'tapi', 'ingin', 'juga', 'nggak', 'mari', 'nanti', 'melainkan', 'oh', 'ok', 'seharusnya', 'sebetulnya', 'setiap', 'setidaknya', 'sesuatu', 'pasti', 'saja', 'toh', 'ya', 'walau', 'tolong', 'tentu', 'amat', 'apalagi', 'bagaimanapun']\n"
     ]
    }
   ],
   "source": [
    "from Sastrawi.StopWordRemover.StopWordRemoverFactory import StopWordRemoverFactory\n",
    "\n",
    "factory = StopWordRemoverFactory()\n",
    "stopwords = factory.get_stop_words()\n",
    "print(stopwords)"
   ]
  },
  {
   "cell_type": "markdown",
   "id": "56007d38-d9ea-48a4-bb3a-a42b902140cf",
   "metadata": {},
   "source": [
    "Filtering using Sastrawi"
   ]
  },
  {
   "cell_type": "code",
   "execution_count": 22,
   "id": "a1d4f0bc-7cfc-4f84-be6f-4e6953fd1f99",
   "metadata": {},
   "outputs": [
    {
     "name": "stdout",
     "output_type": "stream",
     "text": [
      "['Mereka', 'Gabriel', 'Jesus', 'Kevin', 'De', 'Bruyne', '.', 'Jesus', 'dipastikan', 'bakal', 'absen', 'sebulan', 'akibat', 'cedera', 'parah', '.', 'Sedangkan', 'De', 'Bruyne', 'diperkirakan', 'absen', 'dalam', 'laga', 'ke', 'depan', '.', 'Guardiola', 'mengaku', 'cukup', 'pusing', 'cedera', 'dialami', 'pemainnya', 'ManCity', '.']\n"
     ]
    }
   ],
   "source": [
    "from Sastrawi.StopWordRemover.StopWordRemoverFactory import StopWordRemoverFactory\n",
    "from nltk.tokenize import word_tokenize\n",
    "\n",
    "\n",
    "factory = StopWordRemoverFactory()\n",
    "stopword = factory.create_stop_word_remover()\n",
    "\n",
    "kalimat = \"Mereka adalah Gabriel Jesus dan Kevin De Bruyne. Jesus dipastikan bakal absen sekitar sebulan akibat cedera parah. Sedangkan De Bruyne diperkirakan absen hanya dalam dua laga ke ke depan. Guardiola mengaku cukup pusing dengan cedera yang dialami dua pemainnya di ManCity.\"\n",
    "\n",
    "\n",
    "stop = stopword.remove(kalimat)\n",
    "tokens = nltk.tokenize.word_tokenize(stop)\n",
    "\n",
    "print(tokens)"
   ]
  },
  {
   "cell_type": "markdown",
   "id": "408386fb-0e50-47b2-85b5-422d08fff425",
   "metadata": {},
   "source": [
    "Add Custom Stopword\n",
    "Menambahkan kata di stopword untuk dihilangkan pada sebuah teks."
   ]
  },
  {
   "cell_type": "code",
   "execution_count": 24,
   "id": "8cdc2a51-16de-4e6a-9dc1-efab9ceac969",
   "metadata": {},
   "outputs": [
    {
     "ename": "AttributeError",
     "evalue": "'StopWordRemover' object has no attribute 'maketrans'",
     "output_type": "error",
     "traceback": [
      "\u001b[1;31m---------------------------------------------------------------------------\u001b[0m",
      "\u001b[1;31mAttributeError\u001b[0m                            Traceback (most recent call last)",
      "Cell \u001b[1;32mIn[24], line 6\u001b[0m\n\u001b[0;32m      3\u001b[0m \u001b[38;5;28;01mimport\u001b[39;00m \u001b[38;5;21;01mstring\u001b[39;00m\n\u001b[0;32m      5\u001b[0m kalimat \u001b[38;5;241m=\u001b[39m \u001b[38;5;124m\"\u001b[39m\u001b[38;5;124mMereka adalah Gabriel Jesus dan Kevin De Bruyne. Jesus dipastikan bakal absen sekitar sebulan akibat cedera parah. Sedangkan De Bruyne diperkirakan absen hanya dalam dua laga ke ke depan. Guardiola mengaku cukup pusing dengan cedera yang dialami dua pemainnya di ManCity.\u001b[39m\u001b[38;5;124m\"\u001b[39m\n\u001b[1;32m----> 6\u001b[0m hasil \u001b[38;5;241m=\u001b[39m kalimat\u001b[38;5;241m.\u001b[39mtranslate(\u001b[38;5;28;43mstr\u001b[39;49m\u001b[38;5;241;43m.\u001b[39;49m\u001b[43mmaketrans\u001b[49m(\u001b[38;5;124m'\u001b[39m\u001b[38;5;124m'\u001b[39m,\u001b[38;5;124m'\u001b[39m\u001b[38;5;124m'\u001b[39m,string\u001b[38;5;241m.\u001b[39mpunctuation))\u001b[38;5;241m.\u001b[39mlower()\n\u001b[0;32m      8\u001b[0m \u001b[38;5;66;03m# ambil stopword bawaan\u001b[39;00m\n\u001b[0;32m      9\u001b[0m stop_factory \u001b[38;5;241m=\u001b[39m StopWordRemoverFactory()\u001b[38;5;241m.\u001b[39mget_stop_words()\n",
      "\u001b[1;31mAttributeError\u001b[0m: 'StopWordRemover' object has no attribute 'maketrans'"
     ]
    }
   ],
   "source": [
    "from Sastrawi.StopWordRemover.StopWordRemoverFactory import StopWordRemoverFactory, StopWordRemover, ArrayDictionary\n",
    "from nltk.tokenize import word_tokenize \n",
    "import string\n",
    "\n",
    "kalimat = \"Mereka adalah Gabriel Jesus dan Kevin De Bruyne. Jesus dipastikan bakal absen sekitar sebulan akibat cedera parah. Sedangkan De Bruyne diperkirakan absen hanya dalam dua laga ke ke depan. Guardiola mengaku cukup pusing dengan cedera yang dialami dua pemainnya di ManCity.\"\n",
    "hasil = kalimat.translate(str.maketrans('','',string.punctuation)).lower()\n",
    "\n",
    "# ambil stopword bawaan\n",
    "stop_factory = StopWordRemoverFactory().get_stop_words()\n",
    "more_stopword = ['adalah', 'laga']\n",
    "\n",
    "# menggabungkan stopword\n",
    "data = stop_factory + more_stopword\n",
    "\n",
    "dictionary = ArrayDictionary(data)\n",
    "str = StopWordRemover(dictionary)\n",
    "tokens = nltk.tokenize.word_tokenize(str.remove(hasil))\n",
    " \n",
    "print(tokens)"
   ]
  },
  {
   "cell_type": "markdown",
   "id": "77d50d11-6aa4-4c61-8a9b-8af437b9e954",
   "metadata": {},
   "source": [
    "Stemming : Porter Stemming Algorithm using NLTK\n",
    "https://tartarus.org/martin/PorterStemmer/index-old.html"
   ]
  },
  {
   "cell_type": "code",
   "execution_count": 16,
   "id": "a7f0a710-7381-47f9-b24e-4284f9342542",
   "metadata": {},
   "outputs": [
    {
     "name": "stdout",
     "output_type": "stream",
     "text": [
      "program  :  program\n",
      "programs  :  program\n",
      "programer  :  program\n",
      "programing  :  program\n",
      "programers  :  program\n"
     ]
    }
   ],
   "source": [
    "from nltk.stem import PorterStemmer    \n",
    "ps = PorterStemmer() \n",
    "\n",
    "kata = [\"program\", \"programs\", \"programer\", \"programing\", \"programers\"]\n",
    "\n",
    "for k in kata:\n",
    "    print(k, \" : \", ps.stem(k))"
   ]
  },
  {
   "cell_type": "markdown",
   "id": "beb2c042-4f0b-4ee1-9f0f-d142fa0fec6b",
   "metadata": {},
   "source": [
    "Stemming Bahasa Indonesia using Sastrawi"
   ]
  },
  {
   "cell_type": "code",
   "execution_count": 25,
   "id": "3a5fad87-6c18-4452-9d26-beeb65a4129e",
   "metadata": {},
   "outputs": [
    {
     "data": {
      "text/plain": [
       "'mereka adalah gabriel jesus dan kevin de bruyne jesus pasti bakal absen sekitar bulan akibat cedera parah sedang de bruyne kira absen hanya dalam dua laga ke ke depan guardiola aku cukup pusing dengan cedera yang alami dua main di mancity'"
      ]
     },
     "execution_count": 25,
     "metadata": {},
     "output_type": "execute_result"
    }
   ],
   "source": [
    "from Sastrawi.Stemmer.StemmerFactory import StemmerFactory\n",
    "factory = StemmerFactory()\n",
    "stemmer = factory.create_stemmer()\n",
    " \n",
    "kalimat =  kalimat = \"Mereka adalah Gabriel Jesus dan Kevin De Bruyne. Jesus dipastikan bakal absen sekitar sebulan akibat cedera parah. Sedangkan De Bruyne diperkirakan absen hanya dalam dua laga ke ke depan. Guardiola mengaku cukup pusing dengan cedera yang dialami dua pemainnya di ManCity.\"\n",
    "\n",
    "hasil = stemmer.stem(kalimat)\n",
    "\n",
    "hasil"
   ]
  },
  {
   "cell_type": "markdown",
   "id": "91b0686d-3fa0-4500-8667-38a13e9f01b5",
   "metadata": {},
   "source": [
    "Referensi Artikel:\n",
    "\n",
    "https://medium.com/@ksnugroho/dasar-text-preprocessing-dengan-python-a4fa52608ffe"
   ]
  }
 ],
 "metadata": {
  "kernelspec": {
   "display_name": "Python 3 (ipykernel)",
   "language": "python",
   "name": "python3"
  },
  "language_info": {
   "codemirror_mode": {
    "name": "ipython",
    "version": 3
   },
   "file_extension": ".py",
   "mimetype": "text/x-python",
   "name": "python",
   "nbconvert_exporter": "python",
   "pygments_lexer": "ipython3",
   "version": "3.11.5"
  }
 },
 "nbformat": 4,
 "nbformat_minor": 5
}
