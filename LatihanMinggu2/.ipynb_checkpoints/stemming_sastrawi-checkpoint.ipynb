{
 "cells": [
  {
   "cell_type": "markdown",
   "id": "9ec39bd5-4e93-4da2-8871-4120801f6332",
   "metadata": {},
   "source": [
    "Load dataset"
   ]
  },
  {
   "cell_type": "code",
   "execution_count": 1,
   "id": "dad1584b-3ee5-4763-bd37-93b659ed85d8",
   "metadata": {},
   "outputs": [],
   "source": [
    "import pandas as pd"
   ]
  },
  {
   "cell_type": "code",
   "execution_count": 2,
   "id": "c06a732a-c1d9-460d-8ddc-65a3fd1305a4",
   "metadata": {},
   "outputs": [],
   "source": [
    "dataset = pd.read_csv('clean_dataset.csv', sep=';')"
   ]
  },
  {
   "cell_type": "code",
   "execution_count": 3,
   "id": "39608137-93f8-49df-8e91-05a8930dc207",
   "metadata": {},
   "outputs": [
    {
     "data": {
      "text/html": [
       "<div>\n",
       "<style scoped>\n",
       "    .dataframe tbody tr th:only-of-type {\n",
       "        vertical-align: middle;\n",
       "    }\n",
       "\n",
       "    .dataframe tbody tr th {\n",
       "        vertical-align: top;\n",
       "    }\n",
       "\n",
       "    .dataframe thead th {\n",
       "        text-align: right;\n",
       "    }\n",
       "</style>\n",
       "<table border=\"1\" class=\"dataframe\">\n",
       "  <thead>\n",
       "    <tr style=\"text-align: right;\">\n",
       "      <th></th>\n",
       "      <th>Unnamed: 0</th>\n",
       "      <th>title</th>\n",
       "      <th>content</th>\n",
       "      <th>step01</th>\n",
       "      <th>tokens</th>\n",
       "      <th>final_tokens</th>\n",
       "      <th>step02</th>\n",
       "    </tr>\n",
       "  </thead>\n",
       "  <tbody>\n",
       "    <tr>\n",
       "      <th>0</th>\n",
       "      <td>0</td>\n",
       "      <td>Dzikir Nasional Siapkan Spiritual untuk Lebih ...</td>\n",
       "      <td>REPUBLIKA.CO.ID, JAKARTA -- Dzikir Nasional 20...</td>\n",
       "      <td>republika co id jaka dzikir nasional   bertuju...</td>\n",
       "      <td>['republika', 'co', 'id', 'jaka', 'dzikir', 'n...</td>\n",
       "      <td>['republika', 'co', 'id', 'jaka', 'dzikir', 'n...</td>\n",
       "      <td>republika co id jaka dzikir nasional bertujuan...</td>\n",
       "    </tr>\n",
       "  </tbody>\n",
       "</table>\n",
       "</div>"
      ],
      "text/plain": [
       "   Unnamed: 0                                              title  \\\n",
       "0           0  Dzikir Nasional Siapkan Spiritual untuk Lebih ...   \n",
       "\n",
       "                                             content  \\\n",
       "0  REPUBLIKA.CO.ID, JAKARTA -- Dzikir Nasional 20...   \n",
       "\n",
       "                                              step01  \\\n",
       "0  republika co id jaka dzikir nasional   bertuju...   \n",
       "\n",
       "                                              tokens  \\\n",
       "0  ['republika', 'co', 'id', 'jaka', 'dzikir', 'n...   \n",
       "\n",
       "                                        final_tokens  \\\n",
       "0  ['republika', 'co', 'id', 'jaka', 'dzikir', 'n...   \n",
       "\n",
       "                                              step02  \n",
       "0  republika co id jaka dzikir nasional bertujuan...  "
      ]
     },
     "execution_count": 3,
     "metadata": {},
     "output_type": "execute_result"
    }
   ],
   "source": [
    "dataset.head()"
   ]
  },
  {
   "cell_type": "markdown",
   "id": "ac738fe3-f95b-4cf3-a4f6-6b3f379aea82",
   "metadata": {},
   "source": [
    "load sastrawi sebagai stemmer"
   ]
  },
  {
   "cell_type": "code",
   "execution_count": 4,
   "id": "e170f1f3-045f-4649-a1f6-34a02e2324a8",
   "metadata": {},
   "outputs": [],
   "source": [
    "from Sastrawi.Stemmer.StemmerFactory import StemmerFactory\n",
    "factory = StemmerFactory()\n",
    "stemmer = factory.create_stemmer()"
   ]
  },
  {
   "cell_type": "markdown",
   "id": "eb48c9a9-79c2-4a0a-adee-5e12d1229137",
   "metadata": {},
   "source": [
    "hapus stop words"
   ]
  },
  {
   "cell_type": "code",
   "execution_count": 5,
   "id": "9012f483-9c65-4009-afcc-2c5968965d09",
   "metadata": {},
   "outputs": [],
   "source": [
    "from Sastrawi.StopWordRemover.StopWordRemoverFactory import StopWordRemoverFactory, StopWordRemover, ArrayDictionary\n",
    " \n",
    "factory = StopWordRemoverFactory()\n",
    "\n",
    "more_stopword = ['sih', 'nya','rt','loh','lah', 'dd', 'mah', 'nye', 'eh', 'ehh', 'ah', 'yang','yg']\n",
    " \n",
    "# Tambahkan Stopword Baru\n",
    "data = factory.get_stop_words()+more_stopword\n",
    "\n",
    "stopwords_sastrawi = factory.create_stop_word_remover()\n",
    "\n",
    "dictionary = ArrayDictionary(data)\n",
    "str_stopwords = StopWordRemover(dictionary)"
   ]
  },
  {
   "cell_type": "code",
   "execution_count": 6,
   "id": "031aaa89-e34f-4f08-9735-69bbeb114eba",
   "metadata": {},
   "outputs": [],
   "source": [
    "dataset['finalText_str'] = dataset['step02'].apply(str)"
   ]
  },
  {
   "cell_type": "code",
   "execution_count": 7,
   "id": "369b0b5d-14a4-4d75-afc1-40a7098d739c",
   "metadata": {},
   "outputs": [],
   "source": [
    "i=0\n",
    "final_string = []\n",
    "s = \"\"\n",
    "for sentence in dataset[\"finalText_str\"].values:\n",
    "    filteredSentence = []\n",
    "    EachReviewText = \"\"\n",
    "    st = str_stopwords.remove(sentence)\n",
    "    s = (stemmer.stem(st))\n",
    "    filteredSentence.append(s)\n",
    "    \n",
    "    EachReviewText = ' '.join(filteredSentence)\n",
    "    final_string.append(EachReviewText)"
   ]
  },
  {
   "cell_type": "code",
   "execution_count": 8,
   "id": "495f3972-abc1-4d7e-bbe8-075b5b1f0001",
   "metadata": {},
   "outputs": [],
   "source": [
    "dataset.loc[:, ('ProcessedText')] = final_string"
   ]
  },
  {
   "cell_type": "code",
   "execution_count": 9,
   "id": "a28e48e8-28d7-4d62-aed9-d046636bb176",
   "metadata": {},
   "outputs": [
    {
     "data": {
      "text/html": [
       "<div>\n",
       "<style scoped>\n",
       "    .dataframe tbody tr th:only-of-type {\n",
       "        vertical-align: middle;\n",
       "    }\n",
       "\n",
       "    .dataframe tbody tr th {\n",
       "        vertical-align: top;\n",
       "    }\n",
       "\n",
       "    .dataframe thead th {\n",
       "        text-align: right;\n",
       "    }\n",
       "</style>\n",
       "<table border=\"1\" class=\"dataframe\">\n",
       "  <thead>\n",
       "    <tr style=\"text-align: right;\">\n",
       "      <th></th>\n",
       "      <th>Unnamed: 0</th>\n",
       "      <th>title</th>\n",
       "      <th>content</th>\n",
       "      <th>step01</th>\n",
       "      <th>tokens</th>\n",
       "      <th>final_tokens</th>\n",
       "      <th>step02</th>\n",
       "      <th>finalText_str</th>\n",
       "      <th>ProcessedText</th>\n",
       "    </tr>\n",
       "  </thead>\n",
       "  <tbody>\n",
       "    <tr>\n",
       "      <th>0</th>\n",
       "      <td>0</td>\n",
       "      <td>Dzikir Nasional Siapkan Spiritual untuk Lebih ...</td>\n",
       "      <td>REPUBLIKA.CO.ID, JAKARTA -- Dzikir Nasional 20...</td>\n",
       "      <td>republika co id jaka dzikir nasional   bertuju...</td>\n",
       "      <td>['republika', 'co', 'id', 'jaka', 'dzikir', 'n...</td>\n",
       "      <td>['republika', 'co', 'id', 'jaka', 'dzikir', 'n...</td>\n",
       "      <td>republika co id jaka dzikir nasional bertujuan...</td>\n",
       "      <td>republika co id jaka dzikir nasional bertujuan...</td>\n",
       "      <td>republika co id jaka dzikir nasional tuju siap...</td>\n",
       "    </tr>\n",
       "  </tbody>\n",
       "</table>\n",
       "</div>"
      ],
      "text/plain": [
       "   Unnamed: 0                                              title  \\\n",
       "0           0  Dzikir Nasional Siapkan Spiritual untuk Lebih ...   \n",
       "\n",
       "                                             content  \\\n",
       "0  REPUBLIKA.CO.ID, JAKARTA -- Dzikir Nasional 20...   \n",
       "\n",
       "                                              step01  \\\n",
       "0  republika co id jaka dzikir nasional   bertuju...   \n",
       "\n",
       "                                              tokens  \\\n",
       "0  ['republika', 'co', 'id', 'jaka', 'dzikir', 'n...   \n",
       "\n",
       "                                        final_tokens  \\\n",
       "0  ['republika', 'co', 'id', 'jaka', 'dzikir', 'n...   \n",
       "\n",
       "                                              step02  \\\n",
       "0  republika co id jaka dzikir nasional bertujuan...   \n",
       "\n",
       "                                       finalText_str  \\\n",
       "0  republika co id jaka dzikir nasional bertujuan...   \n",
       "\n",
       "                                       ProcessedText  \n",
       "0  republika co id jaka dzikir nasional tuju siap...  "
      ]
     },
     "execution_count": 9,
     "metadata": {},
     "output_type": "execute_result"
    }
   ],
   "source": [
    "dataset"
   ]
  },
  {
   "cell_type": "code",
   "execution_count": 10,
   "id": "640093e0-6532-4150-80a3-008e2bf489f5",
   "metadata": {},
   "outputs": [],
   "source": [
    "dataset.to_csv('clean_dataset_stem.csv',sep=';')"
   ]
  },
  {
   "cell_type": "code",
   "execution_count": null,
   "id": "cad91eb8-0ec8-4f59-b5e6-23548e969945",
   "metadata": {},
   "outputs": [],
   "source": []
  }
 ],
 "metadata": {
  "kernelspec": {
   "display_name": "Python 3 (ipykernel)",
   "language": "python",
   "name": "python3"
  },
  "language_info": {
   "codemirror_mode": {
    "name": "ipython",
    "version": 3
   },
   "file_extension": ".py",
   "mimetype": "text/x-python",
   "name": "python",
   "nbconvert_exporter": "python",
   "pygments_lexer": "ipython3",
   "version": "3.11.5"
  }
 },
 "nbformat": 4,
 "nbformat_minor": 5
}
